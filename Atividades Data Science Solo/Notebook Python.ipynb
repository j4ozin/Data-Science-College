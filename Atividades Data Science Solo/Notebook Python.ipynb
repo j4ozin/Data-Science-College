{
 "cells": [
  {
   "cell_type": "code",
   "execution_count": 0,
   "metadata": {
    "application/vnd.databricks.v1+cell": {
     "cellMetadata": {
      "byteLimit": 2048000,
      "rowLimit": 10000
     },
     "inputWidgets": {},
     "nuid": "9153002b-44e1-4a3c-9f12-fcda27817684",
     "showTitle": false,
     "tableResultSettingsMap": {},
     "title": ""
    }
   },
   "outputs": [],
   "source": [
    "import sqlite3\n",
    "\n",
    "def create_users_table():\n",
    "    connection = sqlite3.connect('database.db') #conecta com banco\n",
    "    cursorSQL = connection.cursor() #criação de objeto p/ comando SQL\n",
    "    cursorSQL.execute('''CREATE TABLE IF NOT EXISTS users\n",
    "                      (id INTEGER PRIMARY KEY, name TEXT, age INTEGER)''')\n",
    "    connection.commit() # salva alterações\n",
    "    connection.close()  # fecha a conexão com o banco\n",
    "\n",
    "def add_user(name, age):\n",
    "    connection = sqlite3.connect('database.db')\n",
    "    cursorSQL = connection.cursor()\n",
    "    cursorSQL.execute('INSERT INTO users (name, age) VALUES (?, ?)', (name, age))\n",
    "    connection.commit()\n",
    "    connection.close()\n",
    "\n",
    "def get_all_users():\n",
    "    connection = sqlite3.connect('database.db')\n",
    "    cursorSQL = connection.cursor()\n",
    "    cursorSQL.execute('SELECT * FROM users')\n",
    "    users = cursorSQL.fetchall() # recupera e armazena os registros na variável users\n",
    "    connection.close()\n",
    "    return users # retorna os registros\n",
    "\n",
    "def modify_user(user_id, name, age):\n",
    "    connection = sqlite3.connect('database.db')\n",
    "    cursorSQL = connection.cursor()\n",
    "    cursorSQL.execute('UPDATE users SET name = ?, age = ? WHERE id = ?', (name, age, user_id))\n",
    "    connection.commit()\n",
    "    connection.close()\n",
    "\n",
    "def remove_user(user_id):\n",
    "    connection = sqlite3.connect('database.db')\n",
    "    cursorSQL = connection.cursor()\n",
    "    cursorSQL.execute('DELETE FROM users WHERE id = ?', (user_id,))\n",
    "    connection.commit()\n",
    "    connection.close()\n",
    "\n",
    "def main():\n",
    "    create_users_table() \n",
    "    while True:\n",
    "        print(\"1. Inserir Usuario\")\n",
    "        print(\"2. Leia os Usuarios\")\n",
    "        print(\"3. Atualizar Usuario\")\n",
    "        print(\"4. Deletar Usuario\")\n",
    "        print(\"5. Sair\")\n",
    "        choice = input(\"Enter choice: \")\n",
    "        \n",
    "        if choice == '1':\n",
    "            name = input(\"Enter name: \")\n",
    "            age = int(input(\"Enter age: \"))\n",
    "            add_user(name, age)\n",
    "        elif choice == '2':\n",
    "            users = get_all_users()\n",
    "            for user in users:\n",
    "                print(user)\n",
    "        elif choice == '3':\n",
    "            user_id = int(input(\"Enter user ID to update: \"))\n",
    "            name = input(\"Enter new name: \")\n",
    "            age = int(input(\"Enter new age: \"))\n",
    "            modify_user(user_id, name, age)\n",
    "        elif choice == '4':\n",
    "            user_id = int(input(\"Enter user ID to delete: \"))\n",
    "            remove_user(user_id)\n",
    "        elif choice == '5':\n",
    "            break\n",
    "        else:\n",
    "            print(\"Invalid choice. Please try again.\")\n",
    "\n",
    "if __name__ == \"__main__\":\n",
    "    main()"
   ]
  },
  {
   "cell_type": "code",
   "execution_count": 0,
   "metadata": {
    "application/vnd.databricks.v1+cell": {
     "cellMetadata": {},
     "inputWidgets": {},
     "nuid": "871db7a3-f3f0-4d09-b080-8e71ec07d157",
     "showTitle": false,
     "tableResultSettingsMap": {},
     "title": ""
    }
   },
   "outputs": [],
   "source": []
  }
 ],
 "metadata": {
  "application/vnd.databricks.v1+notebook": {
   "computePreferences": null,
   "dashboards": [],
   "environmentMetadata": {
    "base_environment": "",
    "environment_version": "3"
   },
   "inputWidgetPreferences": null,
   "language": "python",
   "notebookMetadata": {
    "pythonIndentUnit": 4
   },
   "notebookName": "Notebook Python",
   "widgets": {}
  },
  "language_info": {
   "name": "python"
  }
 },
 "nbformat": 4,
 "nbformat_minor": 0
}
